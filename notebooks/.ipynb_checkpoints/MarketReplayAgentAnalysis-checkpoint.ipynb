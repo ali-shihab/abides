{
 "cells": [
  {
   "cell_type": "code",
   "execution_count": 1,
   "metadata": {},
   "outputs": [],
   "source": [
    "import pandas as pd"
   ]
  },
  {
   "cell_type": "markdown",
   "metadata": {},
   "source": [
    "### Simulation Logs"
   ]
  },
  {
   "cell_type": "code",
   "execution_count": 2,
   "metadata": {},
   "outputs": [],
   "source": [
    "folder_path = 'C:/_code/py/air/abides_open_source/abides/'"
   ]
  },
  {
   "cell_type": "code",
   "execution_count": 3,
   "metadata": {},
   "outputs": [],
   "source": [
    "orderbook_log_df = pd.read_pickle(folder_path + 'log/1560778365/orderbook_AAPL.bz2', compression='bz2')\n",
    "summary_log_df = pd.read_pickle(folder_path + 'log/1560778365/summary_log.bz2', compression='bz2')"
   ]
  },
  {
   "cell_type": "code",
   "execution_count": 4,
   "metadata": {},
   "outputs": [],
   "source": [
    "market_replay_agent_log_df = pd.read_pickle(folder_path + 'log/1560778365/Market_Replay_Agent.bz2', compression='bz2')\n",
    "exchange_agent_log_df = pd.read_pickle(folder_path + 'log/1560778365/Exchange_Agent.bz2', compression='bz2')"
   ]
  },
  {
   "cell_type": "code",
   "execution_count": 5,
   "metadata": {},
   "outputs": [
    {
     "data": {
      "text/html": [
       "<div>\n",
       "<style scoped>\n",
       "    .dataframe tbody tr th:only-of-type {\n",
       "        vertical-align: middle;\n",
       "    }\n",
       "\n",
       "    .dataframe tbody tr th {\n",
       "        vertical-align: top;\n",
       "    }\n",
       "\n",
       "    .dataframe thead th {\n",
       "        text-align: right;\n",
       "    }\n",
       "</style>\n",
       "<table border=\"1\" class=\"dataframe\">\n",
       "  <thead>\n",
       "    <tr style=\"text-align: right;\">\n",
       "      <th></th>\n",
       "      <th>AgentID</th>\n",
       "      <th>AgentStrategy</th>\n",
       "      <th>Event</th>\n",
       "      <th>EventType</th>\n",
       "    </tr>\n",
       "  </thead>\n",
       "  <tbody>\n",
       "    <tr>\n",
       "      <th>0</th>\n",
       "      <td>1</td>\n",
       "      <td>10000000</td>\n",
       "      <td>100000</td>\n",
       "      <td>STARTING_CASH</td>\n",
       "    </tr>\n",
       "    <tr>\n",
       "      <th>1</th>\n",
       "      <td>2</td>\n",
       "      <td>10000000</td>\n",
       "      <td>100000</td>\n",
       "      <td>STARTING_CASH</td>\n",
       "    </tr>\n",
       "    <tr>\n",
       "      <th>2</th>\n",
       "      <td>1</td>\n",
       "      <td>10000000</td>\n",
       "      <td>100000</td>\n",
       "      <td>FINAL_CASH_POSITION</td>\n",
       "    </tr>\n",
       "    <tr>\n",
       "      <th>3</th>\n",
       "      <td>1</td>\n",
       "      <td>10000000</td>\n",
       "      <td>100000</td>\n",
       "      <td>ENDING_CASH</td>\n",
       "    </tr>\n",
       "    <tr>\n",
       "      <th>4</th>\n",
       "      <td>2</td>\n",
       "      <td>10000000</td>\n",
       "      <td>100000</td>\n",
       "      <td>FINAL_CASH_POSITION</td>\n",
       "    </tr>\n",
       "    <tr>\n",
       "      <th>5</th>\n",
       "      <td>2</td>\n",
       "      <td>10000000</td>\n",
       "      <td>100000</td>\n",
       "      <td>ENDING_CASH</td>\n",
       "    </tr>\n",
       "  </tbody>\n",
       "</table>\n",
       "</div>"
      ],
      "text/plain": [
       "   AgentID  AgentStrategy   Event            EventType\n",
       "0        1       10000000  100000        STARTING_CASH\n",
       "1        2       10000000  100000        STARTING_CASH\n",
       "2        1       10000000  100000  FINAL_CASH_POSITION\n",
       "3        1       10000000  100000          ENDING_CASH\n",
       "4        2       10000000  100000  FINAL_CASH_POSITION\n",
       "5        2       10000000  100000          ENDING_CASH"
      ]
     },
     "execution_count": 5,
     "metadata": {},
     "output_type": "execute_result"
    }
   ],
   "source": [
    "summary_log_df"
   ]
  },
  {
   "cell_type": "code",
   "execution_count": 6,
   "metadata": {},
   "outputs": [
    {
     "data": {
      "text/html": [
       "<div>\n",
       "<style scoped>\n",
       "    .dataframe tbody tr th:only-of-type {\n",
       "        vertical-align: middle;\n",
       "    }\n",
       "\n",
       "    .dataframe tbody tr th {\n",
       "        vertical-align: top;\n",
       "    }\n",
       "\n",
       "    .dataframe thead th {\n",
       "        text-align: right;\n",
       "    }\n",
       "</style>\n",
       "<table border=\"1\" class=\"dataframe\">\n",
       "  <thead>\n",
       "    <tr style=\"text-align: right;\">\n",
       "      <th></th>\n",
       "      <th></th>\n",
       "      <th>Volume</th>\n",
       "    </tr>\n",
       "    <tr>\n",
       "      <th>time</th>\n",
       "      <th>quote</th>\n",
       "      <th></th>\n",
       "    </tr>\n",
       "  </thead>\n",
       "  <tbody>\n",
       "    <tr>\n",
       "      <th rowspan=\"10\" valign=\"top\">2012-06-21 09:30:01</th>\n",
       "      <th>500.00</th>\n",
       "      <td>0.0</td>\n",
       "    </tr>\n",
       "    <tr>\n",
       "      <th>500.01</th>\n",
       "      <td>0.0</td>\n",
       "    </tr>\n",
       "    <tr>\n",
       "      <th>500.02</th>\n",
       "      <td>0.0</td>\n",
       "    </tr>\n",
       "    <tr>\n",
       "      <th>500.03</th>\n",
       "      <td>0.0</td>\n",
       "    </tr>\n",
       "    <tr>\n",
       "      <th>500.04</th>\n",
       "      <td>0.0</td>\n",
       "    </tr>\n",
       "    <tr>\n",
       "      <th>500.05</th>\n",
       "      <td>0.0</td>\n",
       "    </tr>\n",
       "    <tr>\n",
       "      <th>500.06</th>\n",
       "      <td>0.0</td>\n",
       "    </tr>\n",
       "    <tr>\n",
       "      <th>500.07</th>\n",
       "      <td>0.0</td>\n",
       "    </tr>\n",
       "    <tr>\n",
       "      <th>500.08</th>\n",
       "      <td>0.0</td>\n",
       "    </tr>\n",
       "    <tr>\n",
       "      <th>500.09</th>\n",
       "      <td>0.0</td>\n",
       "    </tr>\n",
       "  </tbody>\n",
       "</table>\n",
       "</div>"
      ],
      "text/plain": [
       "                            Volume\n",
       "time                quote         \n",
       "2012-06-21 09:30:01 500.00     0.0\n",
       "                    500.01     0.0\n",
       "                    500.02     0.0\n",
       "                    500.03     0.0\n",
       "                    500.04     0.0\n",
       "                    500.05     0.0\n",
       "                    500.06     0.0\n",
       "                    500.07     0.0\n",
       "                    500.08     0.0\n",
       "                    500.09     0.0"
      ]
     },
     "execution_count": 6,
     "metadata": {},
     "output_type": "execute_result"
    }
   ],
   "source": [
    "orderbook_log_df.head(10)"
   ]
  },
  {
   "cell_type": "code",
   "execution_count": 7,
   "metadata": {},
   "outputs": [
    {
     "data": {
      "text/html": [
       "<div>\n",
       "<style scoped>\n",
       "    .dataframe tbody tr th:only-of-type {\n",
       "        vertical-align: middle;\n",
       "    }\n",
       "\n",
       "    .dataframe tbody tr th {\n",
       "        vertical-align: top;\n",
       "    }\n",
       "\n",
       "    .dataframe thead th {\n",
       "        text-align: right;\n",
       "    }\n",
       "</style>\n",
       "<table border=\"1\" class=\"dataframe\">\n",
       "  <thead>\n",
       "    <tr style=\"text-align: right;\">\n",
       "      <th></th>\n",
       "      <th>Event</th>\n",
       "      <th>EventType</th>\n",
       "    </tr>\n",
       "    <tr>\n",
       "      <th>EventTime</th>\n",
       "      <th></th>\n",
       "      <th></th>\n",
       "    </tr>\n",
       "  </thead>\n",
       "  <tbody>\n",
       "    <tr>\n",
       "      <th>NaT</th>\n",
       "      <td>10000000</td>\n",
       "      <td>AGENT_TYPE</td>\n",
       "    </tr>\n",
       "    <tr>\n",
       "      <th>NaT</th>\n",
       "      <td>100000</td>\n",
       "      <td>STARTING_CASH</td>\n",
       "    </tr>\n",
       "    <tr>\n",
       "      <th>2012-06-21 09:30:00.000000</th>\n",
       "      <td>{'CASH': 100000}</td>\n",
       "      <td>HOLDINGS_UPDATED</td>\n",
       "    </tr>\n",
       "    <tr>\n",
       "      <th>2012-06-21 09:30:00.004261</th>\n",
       "      <td>100000</td>\n",
       "      <td>MARKED_TO_MARKET</td>\n",
       "    </tr>\n",
       "    <tr>\n",
       "      <th>2012-06-21 09:30:00.004261</th>\n",
       "      <td>18.0 AAPL @ 585.32 == 10535.76</td>\n",
       "      <td>MARK_TO_MARKET</td>\n",
       "    </tr>\n",
       "  </tbody>\n",
       "</table>\n",
       "</div>"
      ],
      "text/plain": [
       "                                                     Event         EventType\n",
       "EventTime                                                                   \n",
       "NaT                                               10000000        AGENT_TYPE\n",
       "NaT                                                 100000     STARTING_CASH\n",
       "2012-06-21 09:30:00.000000                {'CASH': 100000}  HOLDINGS_UPDATED\n",
       "2012-06-21 09:30:00.004261                          100000  MARKED_TO_MARKET\n",
       "2012-06-21 09:30:00.004261  18.0 AAPL @ 585.32 == 10535.76    MARK_TO_MARKET"
      ]
     },
     "execution_count": 7,
     "metadata": {},
     "output_type": "execute_result"
    }
   ],
   "source": [
    "market_replay_agent_log_df.head()"
   ]
  },
  {
   "cell_type": "code",
   "execution_count": 8,
   "metadata": {},
   "outputs": [
    {
     "data": {
      "text/plain": [
       "MARKED_TO_MARKET       377\n",
       "MARK_TO_MARKET         188\n",
       "FINAL_CASH_POSITION      1\n",
       "FINAL_HOLDINGS           1\n",
       "AGENT_TYPE               1\n",
       "STARTING_CASH            1\n",
       "ENDING_CASH              1\n",
       "HOLDINGS_UPDATED         1\n",
       "Name: EventType, dtype: int64"
      ]
     },
     "execution_count": 8,
     "metadata": {},
     "output_type": "execute_result"
    }
   ],
   "source": [
    "market_replay_agent_log_df.EventType.value_counts()"
   ]
  },
  {
   "cell_type": "code",
   "execution_count": 9,
   "metadata": {},
   "outputs": [
    {
     "data": {
      "text/plain": [
       "ORDER_ACCEPTED                  184\n",
       "BEST_BID                        184\n",
       "LIMIT_ORDER                     184\n",
       "BEST_ASK                        183\n",
       "ORDER_CANCELLED                 131\n",
       "CANCEL_ORDER                    131\n",
       "MODIFY_ORDER                     27\n",
       "REPLICATE_ORDERBOOK_SNAPSHOT      4\n",
       "WHEN_MKT_CLOSE                    2\n",
       "WHEN_MKT_OPEN                     2\n",
       "AGENT_TYPE                        1\n",
       "Name: EventType, dtype: int64"
      ]
     },
     "execution_count": 9,
     "metadata": {},
     "output_type": "execute_result"
    }
   ],
   "source": [
    "exchange_agent_log_df.EventType.value_counts()"
   ]
  },
  {
   "cell_type": "code",
   "execution_count": null,
   "metadata": {},
   "outputs": [],
   "source": []
  }
 ],
 "metadata": {
  "kernelspec": {
   "display_name": "conda_py_36",
   "language": "python",
   "name": "conda_py_36"
  },
  "language_info": {
   "codemirror_mode": {
    "name": "ipython",
    "version": 3
   },
   "file_extension": ".py",
   "mimetype": "text/x-python",
   "name": "python",
   "nbconvert_exporter": "python",
   "pygments_lexer": "ipython3",
   "version": "3.6.5"
  }
 },
 "nbformat": 4,
 "nbformat_minor": 2
}
